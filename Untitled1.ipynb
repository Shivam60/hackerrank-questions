{
 "cells": [
  {
   "cell_type": "code",
   "execution_count": 21,
   "metadata": {
    "scrolled": true
   },
   "outputs": [
    {
     "name": "stdout",
     "output_type": "stream",
     "text": [
      "(\n",
      "['(']\n",
      "a\n",
      "+\n",
      "b\n",
      ")\n",
      "(\n",
      "['(', '(']\n",
      "c\n",
      "-\n",
      "d\n",
      ")\n",
      "(\n",
      "['(', '(', '(']\n",
      "e\n",
      "+\n",
      "f\n",
      ")\n"
     ]
    },
    {
     "data": {
      "text/plain": [
       "3"
      ]
     },
     "execution_count": 21,
     "metadata": {},
     "output_type": "execute_result"
    }
   ],
   "source": [
    "def depth(s):\n",
    "\tsm=0\n",
    "\tb=[]\n",
    "\tfor i in s:\n",
    "\t\tif i=='(':\n",
    "\t\t\tb.append('(')\n",
    "\t\t\tif len(b)>sm:\n",
    "\t\t\t\tprint(b)\n",
    "\t\t\t\tsm=len(b)\n",
    "\t\telif i==')':\n",
    "\t\t\tb.pop()\n",
    "\t\telse:\n",
    "\t\t\tpass           \n",
    "\treturn sm\n",
    "depth(\"(a+b)(c-d)(e+f)\")"
   ]
  },
  {
   "cell_type": "code",
   "execution_count": null,
   "metadata": {
    "collapsed": true
   },
   "outputs": [],
   "source": []
  }
 ],
 "metadata": {
  "kernelspec": {
   "display_name": "Python 3",
   "language": "python",
   "name": "python3"
  },
  "language_info": {
   "codemirror_mode": {
    "name": "ipython",
    "version": 3
   },
   "file_extension": ".py",
   "mimetype": "text/x-python",
   "name": "python",
   "nbconvert_exporter": "python",
   "pygments_lexer": "ipython3",
   "version": "3.6.1"
  }
 },
 "nbformat": 4,
 "nbformat_minor": 2
}
