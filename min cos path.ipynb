{
 "cells": [
  {
   "cell_type": "code",
   "execution_count": 29,
   "metadata": {},
   "outputs": [
    {
     "name": "stdout",
     "output_type": "stream",
     "text": [
      "[1, 2, 3]\n",
      "[4, 8, 2]\n",
      "[1, 5, 3]\n",
      "\n",
      "[1, 3, 6]\n",
      "[5, 0, 0]\n",
      "[6, 0, 0]\n",
      "\n",
      "[1, 3, 6]\n",
      "[5, 9, 5]\n",
      "[6, 10, 8]\n",
      "\n"
     ]
    }
   ],
   "source": [
    "def prt(m):\n",
    "    for i in m:\n",
    "        print(i)\n",
    "    print()\n",
    "r=3\n",
    "c=3\n",
    "a=[[1,2,3],\n",
    "   [4,8,2],\n",
    "   [1,5,3]]\n",
    "print(\"matrix before\")\n",
    "prt(a)\n",
    "d=[[0 for j in range(c)] for i in range(r)]\n",
    "d[0][0]=a[0][0]\n",
    "for i in range(1, 2):\n",
    "    d[i][0] = d[i-1][0] + a[i][0]\n",
    "for i in range(1, 2):\n",
    "    d[0][i] = d[0][i-1] + a[0][i]\n",
    "print(\"matrix New cost\")\n",
    "prt(d)\n",
    "#2 is for the value till where min cost is to be found\n",
    "\n",
    "for i in range(1,2):\n",
    "    for j in range(1,2):\n",
    "        d[i][j]=min(d[i-1][j-1],d[i][j-1],d[i-1][j])+a[i][j]\n",
    "prt(d[2][2])"
   ]
  },
  {
   "cell_type": "code",
   "execution_count": null,
   "metadata": {
    "collapsed": true
   },
   "outputs": [],
   "source": []
  },
  {
   "cell_type": "code",
   "execution_count": null,
   "metadata": {
    "collapsed": true
   },
   "outputs": [],
   "source": []
  }
 ],
 "metadata": {
  "kernelspec": {
   "display_name": "Python 3",
   "language": "python",
   "name": "python3"
  },
  "language_info": {
   "codemirror_mode": {
    "name": "ipython",
    "version": 3
   },
   "file_extension": ".py",
   "mimetype": "text/x-python",
   "name": "python",
   "nbconvert_exporter": "python",
   "pygments_lexer": "ipython3",
   "version": "3.6.1"
  }
 },
 "nbformat": 4,
 "nbformat_minor": 2
}
