{
 "cells": [
  {
   "cell_type": "code",
   "execution_count": null,
   "metadata": {},
   "outputs": [],
   "source": [
    "a=list(input().strip().split())\n",
    "a=[int(i) for i in a]\n",
    "maxsof=0\n",
    "maxend=0\n",
    "maxtot=0\n",
    "for i in range(len(a)):\n",
    "    maxsof+=a[i]\n",
    "    if maxsof>0:\n",
    "        maxsof=0\n",
    "    if maxend>maxsof:\n",
    "        maxend=maxsof\n",
    "    if a[i]>=0:\n",
    "        maxtot+=a[i]\n",
    "print(maxend,maxtot\n",
    "      "
   ]
  },
  {
   "cell_type": "code",
   "execution_count": null,
   "metadata": {
    "collapsed": true
   },
   "outputs": [],
   "source": []
  }
 ],
 "metadata": {
  "kernelspec": {
   "display_name": "Python 3",
   "language": "python",
   "name": "python3"
  },
  "language_info": {
   "codemirror_mode": {
    "name": "ipython",
    "version": 3
   },
   "file_extension": ".py",
   "mimetype": "text/x-python",
   "name": "python",
   "nbconvert_exporter": "python",
   "pygments_lexer": "ipython3",
   "version": "3.6.1"
  }
 },
 "nbformat": 4,
 "nbformat_minor": 2
}
